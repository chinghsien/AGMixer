{
 "cells": [
  {
   "cell_type": "code",
   "execution_count": 2,
   "metadata": {},
   "outputs": [],
   "source": [
    "from torch.utils.data import Dataset, DataLoader\n",
    "import cv2 as cv\n",
    "from torchvision import transforms, utils\n",
    "from torchvision.io import read_image\n",
    "from torchvision.transforms import functional as TF\n",
    "import torch\n",
    "import numpy as np\n",
    "import os\n",
    "import pandas as pd\n",
    "import matplotlib.pyplot as plt\n",
    "from PIL import Image\n",
    "from tqdm.notebook import tqdm    \n",
    "import json\n",
    "from typing import List, Dict, Tuple"
   ]
  },
  {
   "cell_type": "markdown",
   "metadata": {},
   "source": [
    "# CACD2000"
   ]
  },
  {
   "cell_type": "code",
   "execution_count": 4,
   "metadata": {},
   "outputs": [
    {
     "name": "stdout",
     "output_type": "stream",
     "text": [
      "14\n",
      "62\n"
     ]
    }
   ],
   "source": [
    "data_path = \"/mnt/d/chinghsien/Downloads/NTU_Thesis_Code_backup/Datasets/CACD2000/\"\n",
    "j_file = open(\"/mnt/d/chinghsien/Documents/NTU/Master_Thesis/AGMixer/annotations/CACD2000_aligned.json\", \"r\")\n",
    "json_afad = json.load(j_file)\n",
    "\n",
    "pool = [0, 1, 2, 3, 4, 5]\n",
    "name_list = []\n",
    "age_list = []\n",
    "\n",
    "for idx, i in enumerate(json_afad):\n",
    "    c_name = i['name'].replace(\"_\", \" \")\n",
    "    name_list.append(c_name)\n",
    "    age_list.append(i[\"age\"])\n",
    " \n",
    "\n",
    "print(min(age_list))\n",
    "print(max(age_list))"
   ]
  },
  {
   "cell_type": "code",
   "execution_count": 5,
   "metadata": {},
   "outputs": [
    {
     "name": "stdout",
     "output_type": "stream",
     "text": [
      "163446\n",
      "Robin Williams\n",
      "2000\n",
      "Jon Stewart\n"
     ]
    }
   ],
   "source": [
    "print(len(name_list))\n",
    "print(name_list[3])\n",
    "name_list = list(set(name_list))\n",
    "print(len(name_list))\n",
    "print(name_list[3])"
   ]
  },
  {
   "cell_type": "markdown",
   "metadata": {},
   "source": [
    "# Search Gender from wikipedia"
   ]
  },
  {
   "cell_type": "code",
   "execution_count": 5,
   "metadata": {},
   "outputs": [
    {
     "name": "stderr",
     "output_type": "stream",
     "text": [
      "100%|██████████| 2000/2000 [03:38<00:00,  9.14it/s]\n"
     ]
    }
   ],
   "source": [
    "import requests\n",
    "from bs4 import BeautifulSoup\n",
    "from concurrent.futures import ThreadPoolExecutor, as_completed\n",
    "from tqdm import tqdm\n",
    "\n",
    "# The Code base is from chatGPT\n",
    "\n",
    "wiki_url = \"https://en.wikipedia.org/wiki/\"\n",
    "\n",
    "def get_gender_from_text(text):\n",
    "    text_lower = text.lower()\n",
    "    if \" she \" in text_lower:\n",
    "        return \"Female\"\n",
    "    elif \" he \" in text_lower:\n",
    "        return \"Male\"\n",
    "    return \"Not found\"\n",
    "\n",
    "\n",
    "def get_gender_from_wikipedia(name):\n",
    "    try:\n",
    "        url = wiki_url + name.replace(\" \", \"_\")\n",
    "        response = requests.get(url)\n",
    "        response.raise_for_status()\n",
    "        soup = BeautifulSoup(response.content, 'html.parser')\n",
    "        paragraphs = soup.find_all('p')\n",
    "        for paragraph in paragraphs:\n",
    "            text = paragraph.get_text()\n",
    "            gender = get_gender_from_text(text)\n",
    "            if gender != \"Not found\":\n",
    "                return name, gender\n",
    "        return name, \"Not found\"\n",
    "    except Exception as e:\n",
    "        return name, f\"Error: {e}\"\n",
    "\n",
    "def fetch_genders(names):\n",
    "    results = []\n",
    "    with ThreadPoolExecutor(max_workers=10) as executor:\n",
    "        future_to_name = {executor.submit(get_gender_from_wikipedia, name): name for name in names}\n",
    "        with tqdm(total=len(future_to_name)) as pbar:\n",
    "            for future in as_completed(future_to_name):\n",
    "                name = future_to_name[future]\n",
    "                try:\n",
    "                    result = future.result()\n",
    "                    results.append(result)\n",
    "                except Exception as e:\n",
    "                    results.append((name, f\"Error: {e}\"))\n",
    "                pbar.update(1)\n",
    "    return results\n",
    "\n",
    "results = fetch_genders(name_list)\n",
    "\n"
   ]
  },
  {
   "cell_type": "code",
   "execution_count": 6,
   "metadata": {},
   "outputs": [
    {
     "name": "stdout",
     "output_type": "stream",
     "text": [
      "('Katie Findlay', 'Not found')\n"
     ]
    }
   ],
   "source": [
    "a = get_gender_from_wikipedia(\"Katie Findlay\")\n",
    "print(a)"
   ]
  },
  {
   "cell_type": "code",
   "execution_count": 7,
   "metadata": {},
   "outputs": [
    {
     "name": "stdout",
     "output_type": "stream",
     "text": [
      "{'Agnes Bruckner': 'Female', 'Mary McDonnell': 'Female', 'James Denton': 'Male', 'Minnie Driver': 'Female', 'Seth Green': 'Male', 'Cuba Gooding Jr.': 'Male', 'AnnaLynne McCord': 'Female', 'Cristine Rose': 'Female', 'Chris Evans': 'Not found', 'Heather Thomas': 'Female', 'Colin Farrell': 'Male', 'Michael Moore': 'Male', 'Bryce Dallas Howard': 'Female', 'Deborah Kara Unger': 'Female', 'Taylor Schilling': 'Female', 'Greg Evigan': 'Male', 'James Frain': 'Male', 'Paul Feig': 'Male', 'Bruce Willis': 'Male', 'Thomas Dekker': 'Not found', 'Keith David': 'Male', 'Ian Harding': 'Male', 'Vera Farmiga': 'Female', 'Ashley Williams': 'Not found', 'Sophia Bush': 'Female', 'James Read': 'Male', 'Jeff Garlin': 'Male', 'Stephen Merchant': 'Male', 'Julia Stiles': 'Female', 'Denis Villeneuve': 'Male', 'Gwyneth Paltrow': 'Female', 'Eddie Redmayne': 'Male', 'Renee Olstead': 'Female', 'Nina Dobrev': 'Female', 'Lady Gaga': 'Female', 'Brant Daugherty': 'Male', 'Jack Huston': 'Male', 'John Turturro': 'Male', 'Sandra Oh': 'Female', 'Sarah Roemer': 'Female', 'Marissa Ribisi': 'Female', 'Mykelti Williamson': 'Male', 'Vincent Cassel': 'Male', 'Tatiana Maslany': 'Female', 'Martin Starr': 'Male', 'Kelly Reilly': 'Female', 'Stephen Fry': 'Male', 'Michael Weatherly': 'Male', 'Jessica Lucas': 'Female', 'Michael Imperioli': 'Male', 'Sean Astin': 'Male', 'Margot Robbie': 'Female', 'Peter Berg': 'Male', 'Tilda Swinton': 'Female', 'William Forsythe': 'Not found', 'Rachel McAdams': 'Female', 'Haley Bennett': 'Female', 'Wendy Crewson': 'Female', 'Odette Annable': 'Female', 'Elisabeth Röhm': 'Female', 'Irina Shayk': 'Female', 'Sarah Jones': 'Not found', 'Mindy Sterling': 'Female', 'Dan Aykroyd': 'Male', 'Katie Aselton': 'Female', 'Neve Campbell': 'Female', 'Sam Taylor-Johnson': 'Female', 'Tyler Blackburn': 'Male', 'Miguel Ferrer': 'Male', 'Robin Wright': 'Female', 'Chris Colfer': 'Male', 'Juliette Lewis': 'Female', 'CCH Pounder': 'Female', 'Chris Sanders': 'Male', 'Christopher Cousins': 'Male', 'Matt Lucas': 'Male', \"Terry O'Quinn\": 'Male', 'Michael Socha': 'Female', 'Vanessa Williams': 'Female', 'Dwayne Johnson': 'Male', 'Billy Burke': 'Not found', 'Aly Michalka': 'Female', 'Jessy Schram': 'Female', 'Penélope Cruz': 'Female', 'Doug Hutchison': 'Male', 'Bree Turner': 'Female', 'Sarah Clarke': 'Female', 'Marla Sokoloff': 'Female', 'Olivia Munn': 'Female', 'Michael Paré': 'Male', 'Jesse Tyler Ferguson': 'Male', 'Daveigh Chase': 'Female', 'Katy Perry': 'Female', 'Michael Clarke Duncan': 'Male', 'Dylan Baker': 'Male', 'Lea Thompson': 'Female', 'Jackie Earle Haley': 'Male', 'Tania Raymonde': 'Female', \"Paige O'Hara\": 'Female', 'Adam Scott': 'Not found', 'Tony Danza': 'Male', 'Serinda Swan': 'Female', 'Chris Messina': 'Male', 'Danica McKellar': 'Female', 'Luke Mitchell': 'Male', 'Isaiah Washington': 'Male', 'Kevin Costner': 'Male', 'Patricia Clarkson': 'Female', 'Mary Stuart Masterson': 'Female', 'Paul Reubens': 'Male', 'James Lafferty': 'Male', 'Willem Dafoe': 'Male', 'James Pickens Jr.': 'Male', 'Jennifer Tilly': 'Female', 'April Bowlby': 'Female', 'Kelly Hu': 'Female', 'Jesse Eisenberg': 'Male', 'Julia Louis-Dreyfus': 'Female', 'Andy Samberg': 'Male', 'Patrick Warburton': 'Male', 'Annette Bening': 'Female', 'Samantha Barks': 'Female', 'Felicity Jones': 'Female', 'Tom Cruise': 'Male', 'Melissa Joan Hart': 'Female', 'Kelly McGillis': 'Female', 'Suzie Plakson': 'Female', 'Olga Kurylenko': 'Female', 'Chris Elliott': 'Male', 'Ryan Murphy': 'Not found', 'Hilarie Burton': 'Female', 'Jared Leto': 'Male', 'Leelee Sobieski': 'Female', 'Edward Norton': 'Male', 'Alex Kingston': 'Female', 'Phoebe Cates': 'Female', 'Neil Patrick Harris': 'Male', 'Michael Dudikoff': 'Male', 'Sam J. Jones': 'Male', 'Warren Kole': 'Male', 'Jeremy Jordan': 'Not found', 'Dominic Cooper': 'Male', 'Zosia Mamet': 'Female', 'Tamsin Egerton': 'Female', 'Jude Law': 'Male', 'Corey Feldman': 'Male', 'Colin Hanks': 'Male', 'Judy Greer': 'Female', 'Ally Walker': 'Female', 'Will Patton': 'Male', 'Joely Richardson': 'Female', 'Grey Damon': 'Male', 'Famke Janssen': 'Female', 'Wendi McLendon-Covey': 'Female', 'Pruitt Taylor Vince': 'Male', 'Taylor Swift': 'Female', 'Jason Mewes': 'Male', 'Danielle Fishel': 'Female', 'Audrey Tautou': 'Female', 'Benicio Del Toro': 'Male', 'Manu Bennett': 'Male', 'Bobcat Goldthwait': 'Male', 'Alfonso Cuarón': 'Male', 'Moon Bloodgood': 'Male', 'Ellen Pompeo': 'Female', 'Shay Mitchell': 'Female', 'Max Irons': 'Male', 'Chloë Sevigny': 'Female', 'Olivier Martinez': 'Male', 'Leslie Bibb': 'Female', 'Felicia Day': 'Female', 'Elizabeth Banks': 'Female', 'Tom Welling': 'Male', 'Eugenio Derbez': 'Male', 'Lou Ferrigno': 'Male', 'Miles Teller': 'Male', 'James Wolk': 'Male', 'Aaron Johnson': 'Not found', 'Amber Heard': 'Female', 'Alison Lohman': 'Female', 'Eric Christian Olsen': 'Male', 'Rosanna Arquette': 'Female', 'Kenneth Branagh': 'Male', 'Billy Bob Thornton': 'Male', 'Lucy Punch': 'Female', 'Marton Csokas': 'Male', 'Jonathan Frakes': 'Male', 'Kiefer Sutherland': 'Male', 'Danny Dyer': 'Male', 'Rick Moranis': 'Male', 'Anne Hathaway': 'Female', 'Nick Offerman': 'Male', 'Sasha Alexander': 'Female', 'Armie Hammer': 'Male', 'Rihanna': 'Female', 'Stellan Skarsgård': 'Male', 'Tom Hanks': 'Male', 'Michael Stuhlbarg': 'Male', 'Sienna Miller': 'Female', 'Sofía Vergara': 'Female', 'Kate Walsh': 'Not found', 'Kelly Preston': 'Female', 'Michael Emerson': 'Male', 'Joe Manganiello': 'Male', 'Deborah Ann Woll': 'Female', 'Steven Bauer': 'Male', 'Elizabeth Daily': 'Female', 'Matthew Goode': 'Male', 'Noureen DeWulf': 'Female', 'Ashton Kutcher': 'Male', 'Spencer Grammer': 'Female', 'Fran Drescher': 'Female', 'Matt Bomer': 'Male', 'Danny Elfman': 'Male', 'Peter Jackson': 'Male', 'Scott Eastwood': 'Male', 'Lauren German': 'Female', 'Beyoncé Knowles': 'Female', 'Cameron Diaz': 'Female', 'Monica Potter': 'Female', 'Aisha Tyler': 'Female', 'Kristen Connolly': 'Female', 'Amanda Setton': 'Female', 'Kathy Najimy': 'Female', 'Mary McCormack': 'Female', 'Josh Lucas': 'Male', 'Christoph Waltz': 'Male', 'Mackenzie Rosman': 'Female', 'Matt Damon': 'Male', 'Debra Jo Rupp': 'Female', 'Emmanuelle Chriqui': 'Female', 'Jamie Lee Curtis': 'Female', 'Owen Wilson': 'Male', 'Jason Momoa': 'Male', 'Jason Sudeikis': 'Male', 'Isabelle Huppert': 'Female', 'Avril Lavigne': 'Female', 'Lizzie Brocheré': 'Female', 'Talia Balsam': 'Female', 'Clea DuVall': 'Female', 'Kevin Zegers': 'Male', 'Keegan Connor Tracy': 'Female', 'Rose Leslie': 'Female', 'Thomas Haden Church': 'Male', 'David Keith': 'Not found', 'Vicki Lewis': 'Female', 'Steve Howey': 'Not found', 'Paz de la Huerta': 'Female', 'Frances Conroy': 'Female', 'Heather Morris': 'Female', 'Laurie Holden': 'Female', 'Allison Janney': 'Female', 'Yvonne Strahovski': 'Female', 'William Fichtner': 'Male', 'Summer Glau': 'Female', 'Elizabeth McGovern': 'Female', 'Jake Gyllenhaal': 'Male', 'Judge Reinhold': 'Male', 'Christopher Reeve': 'Male', 'Michelle Forbes': 'Female', 'Kathleen Turner': 'Female', 'Sarah Michelle Gellar': 'Female', 'Miko Hughes': 'Male', 'Lars von Trier': 'Male', 'Peyton List': 'Not found', 'Guy Pearce': 'Male', 'Catherine Zeta-Jones': 'Female', 'Xander Berkeley': 'Male', 'Robert Carradine': 'Male', 'Tricia Helfer': 'Female', 'Ciarán Hinds': 'Male', 'Matthew Modine': 'Male', 'Ricky Gervais': 'Male', 'Cote de Pablo': 'Female', 'Emily VanCamp': 'Female', 'Cheryl Ladd': 'Female', 'Alicia Silverstone': 'Female', 'Zeljko Ivanek': 'Male', 'Carly Chaikin': 'Female', 'Kunal Nayyar': 'Male', 'Mena Suvari': 'Female', 'Jennifer Garner': 'Female', 'John Francis Daley': 'Male', 'Spencer Treat Clark': 'Male', 'Sarah Gadon': 'Female', 'Orlando Bloom': 'Male', 'Margo Harshman': 'Female', 'Mike Myers': 'Male', 'J.K. Simmons': 'Male', 'Justin Long': 'Male', 'Viola Davis': 'Female', 'Christine Taylor': 'Female', 'Barry Pepper': 'Male', 'Donnie Yen': 'Male', 'Freddie Prinze Jr.': 'Male', 'Drew Barrymore': 'Female', 'Mary Elizabeth Mastrantonio': 'Female', 'Kristine DeBell': 'Female', 'Oscar Isaac': 'Male', 'Spike Jonze': 'Male', 'Natasha Richardson': 'Female', 'Gregg Henry': 'Female', 'Robin Thicke': 'Male', 'Maria Bello': 'Female', 'Curtis Armstrong': 'Male', 'Olivia Hussey': 'Female', 'Pamela Sue Martin': 'Female', 'Alexis Arquette': 'Female', 'John McTiernan': 'Male', 'Melissa McCarthy': 'Female', 'Jake Thomas': 'Male', \"Nicole 'Snooki' Polizzi\": \"Error: 404 Client Error: Not Found for url: https://en.wikipedia.org/wiki/Nicole_'Snooki'_Polizzi\", 'Thomas Gibson': 'Male', 'Tom Noonan': 'Male', 'Julie Gonzalo': 'Female', 'Joseph Gordon-Levitt': 'Male', 'Dermot Mulroney': 'Male', 'Scott Baio': 'Male', 'Jami Gertz': 'Female', 'Oliver Hudson': 'Male', 'Ron Jeremy': 'Male', 'Patrick Wilson': 'Male', 'Jean-Claude Van Damme': 'Male', 'Katharine McPhee': 'Female', 'Gemma Arterton': 'Female', 'Robert Kazinsky': 'Male', 'Bob Odenkirk': 'Male', 'Tyra Banks': 'Female', 'Michael Bowen': 'Not found', 'Ray Park': 'Male', 'Nana Visitor': 'Female', 'Jon Hamm': 'Male', 'Wes Anderson': 'Male', 'Will Arnett': 'Male', 'Nia Peeples': 'Female', 'Ted Levine': 'Male', 'Eva Longoria': 'Female', 'Emily Rios': 'Female', 'Gus Van Sant': 'Male', 'Jennifer Love Hewitt': 'Female', 'Rachael Leigh Cook': 'Female', 'Embeth Davidtz': 'Female', 'Tim Robbins': 'Male', 'Ron Livingston': 'Male', 'Clive Owen': 'Male', 'Jessica Alba': 'Female', 'Clémence Poésy': 'Female', 'Sienna Guillory': 'Female', 'Milo Ventimiglia': 'Male', 'Bill Paxton': 'Male', 'Jean-Luc Bilodeau': 'Male', 'Christopher Nolan': 'Male', 'Paul Greengrass': 'Male', 'Ross Bagley': 'Male', 'Courtney Thorne-Smith': 'Female', 'David Cross': 'Male', 'Charles Baker': 'Not found', 'David Boreanaz': 'Male', 'Ethan Hawke': 'Male', 'Alex Pettyfer': 'Male', 'Dana Carvey': 'Male', 'Joan Allen': 'Female', 'Rachel Hurd-Wood': 'Female', 'Molly Ringwald': 'Female', 'Terry Crews': 'Male', 'Jenna Jameson': 'Female', 'Margaret Colin': 'Female', 'George Clooney': 'Male', 'Damian Lewis': 'Male', 'Eric McCormack': 'Male', 'Chris Brown': 'Male', 'Matthew Lillard': 'Male', 'Jamie Campbell Bower': 'Male', 'Michelle Yeoh': 'Female', 'Christina Aguilera': 'Female', 'Hugh Laurie': 'Male', 'Kristin Kreuk': 'Female', 'Virginia Madsen': 'Female', 'Mario Lopez': 'Male', 'Tate Donovan': 'Male', 'William Zabka': 'Male', 'Kate Winslet': 'Female', 'Liev Schreiber': 'Male', 'Luke Evans': 'Male', 'Jackson Rathbone': 'Male', 'Peter Capaldi': 'Male', 'Johnny Galecki': 'Male', \"Alex O'Loughlin\": 'Male', 'Tommy Flanagan': 'Male', 'Jennifer Carpenter': 'Female', 'Colton Haynes': 'Male', 'Desmond Harrington': 'Male', 'Cody Horn': 'Female', 'Henry Thomas': 'Male', 'Jessica Chastain': 'Female', 'Dan Castellaneta': 'Male', \"Annette O'Toole\": 'Female', 'Poppy Montgomery': 'Female', 'Ginnifer Goodwin': 'Female', 'Ray Winstone': 'Male', 'Elsa Pataky': 'Female', 'Treat Williams': 'Male', 'Steve McQueen': 'Male', 'Marlon Wayans': 'Male', 'Cathy Moriarty': 'Female', 'Ivana Milicevic': 'Female', 'Phyllis Logan': 'Female', 'Idris Elba': 'Male', 'Allison Scagliotti': 'Female', 'Mamie Gummer': 'Female', 'Lorenzo Lamas': 'Male', 'Meg Ryan': 'Female', 'James Badge Dale': 'Male', 'Christina Hendricks': 'Female', \"Mike O'Malley\": 'Male', 'Alexis Bledel': 'Female', 'Diablo Cody': 'Female', 'Oprah Winfrey': 'Female', 'Leonardo DiCaprio': 'Male', 'Brittany Murphy': 'Female', 'Yunjin Kim': 'Female', 'Lucy Hale': 'Female', 'David Krumholtz': 'Male', 'Lizzy Caplan': 'Female', 'Demi Moore': 'Female', 'Jim Sturgess': 'Male', 'Hank Azaria': 'Male', 'Joseph Fiennes': 'Male', 'Diane Venora': 'Female', 'Guy Ritchie': 'Male', 'Megan Fox': 'Female', 'Matthew Macfadyen': 'Male', 'Vinessa Shaw': 'Female', 'Nathan Fillion': 'Male', 'Zach Braff': 'Male', 'Rose Byrne': 'Female', 'Beau Mirchoff': 'Male', 'Tori Black': 'Female', 'Jon Bon Jovi': 'Male', 'Keira Knightley': 'Female', 'Lori Loughlin': 'Female', 'Ron Howard': 'Male', 'Christopher Lambert': 'Male', 'Rachel Weisz': 'Female', 'Timothy Hutton': 'Male', 'Natalie Zea': 'Female', 'Christine Lakin': 'Female', 'Shawna Waldron': 'Female', 'Lindy Booth': 'Female', 'Sharon Stone': 'Female', 'Shah Rukh Khan': 'Male', 'Paget Brewster': 'Female', 'Kate Mulgrew': 'Female', 'Emilia Clarke': 'Female', 'Mark Wahlberg': 'Male', 'Wendy Schaal': 'Female', 'Chris Hemsworth': 'Male', 'Jennie Garth': 'Female', 'Luke Perry': 'Male', 'Eli Roth': 'Male', 'Daniela Ruah': 'Female', 'Kirsten Dunst': 'Female', 'Robert Davi': 'Male', 'Lucas Black': 'Male', 'Dolph Lundgren': 'Male', 'Penelope Ann Miller': 'Female', 'Dougray Scott': 'Male', 'Julian Assange': 'Male', 'Garrett Hedlund': 'Male', 'Julianne Moore': 'Female', 'Jason Statham': 'Male', 'Heather Ripley': 'Female', 'David Patrick Kelly': 'Male', 'Robin Williams': 'Male', 'Graham Greene': 'Male', 'Fiona Fullerton': 'Female', 'Max Minghella': 'Male', 'Thomas Lennon': 'Male', 'Michael Rooker': 'Male', 'Anna Gunn': 'Female', 'Joe Pantoliano': 'Male', 'Mark-Paul Gosselaar': 'Male', 'Gretchen Mol': 'Female', 'Peter Gallagher': 'Male', 'Leslie Mann': 'Female', 'Lucas Till': 'Male', 'Robert Picardo': 'Male', 'JoAnna Garcia Swisher': 'Female', 'Ellen Page': 'Male', 'Rachel Miner': 'Female', 'Scott Bakula': 'Male', 'David Faustino': 'Male', \"Heather O'Rourke\": 'Female', 'Rachael Harris': 'Female', 'Katie Holmes': 'Female', 'Emily Deschanel': 'Female', 'Michael Ealy': 'Male', 'Charlotte Sullivan': 'Female', 'Andrew Garfield': 'Male', 'Alan Ruck': 'Male', 'Ryan Gosling': 'Male', 'Elisabeth Shue': 'Female', 'Nicole Ari Parker': 'Female', 'Marc Blucas': 'Male', 'Theo James': 'Male', 'Hugh Jackman': 'Male', 'Clare Bowen': 'Female', 'Sean Bean': 'Male', 'Rebecca Hall': 'Female', 'Mads Mikkelsen': 'Male', 'Mary Elizabeth Ellis': 'Female', 'Michael Madsen': 'Male', 'Alona Tal': 'Female', 'Joel Edgerton': 'Male', 'Matthew McConaughey': 'Male', 'Gary Sinise': 'Male', 'Michael Raymond-James': 'Male', 'Natalia Tena': 'Female', 'Alicia Vikander': 'Female', 'Justin Hartley': 'Male', 'Judd Nelson': 'Male', 'John Krasinski': 'Male', 'Jason Segel': 'Male', 'Grace Park': 'Not found', 'Dania Ramirez': 'Female', 'Natasha Lyonne': 'Female', 'Robby Benson': 'Male', 'Brian Austin Green': 'Male', 'Michael Keaton': 'Male', 'Emilio Estevez': 'Male', 'Jon Heder': 'Male', 'John Barrowman': 'Male', 'David Harewood': 'Male', 'Simon Pegg': 'Male', 'Tim Gunn': 'Male', 'Chris Noth': 'Male', 'Will Ferrell': 'Male', \"Olivia d'Abo\": 'Female', 'John Travolta': 'Male', 'Cassandra Peterson': 'Female', 'John Corbett': 'Male', 'Colin Firth': 'Male', 'Ray McKinnon': 'Not found', 'Alice Eve': 'Female', 'Bryan Cranston': 'Male', 'Kathryn Bigelow': 'Female', 'Paul Thomas Anderson': 'Male', 'David E. Kelley': 'Male', 'Max Martini': 'Male', 'Nastassja Kinski': 'Female', 'Emma Caulfield': 'Female', 'Adelaide Kane': 'Female', 'Natasha Leggero': 'Female', 'Jesse Ventura': 'Male', 'Lindsey Shaw': 'Female', 'Kelly LeBrock': 'Female', 'Missi Pyle': 'Female', 'Katie Cassidy': 'Female', 'Emmanuelle Béart': 'Female', 'Zack Snyder': 'Male', 'Russell Brand': 'Male', 'Hope Davis': 'Female', 'Bill Moseley': 'Male', 'Jeremy Piven': 'Male', 'Jodie Foster': 'Female', 'Josh Duhamel': 'Male', 'Jack McBrayer': 'Male', 'Clark Duke': 'Male', 'Sara Rue': 'Female', 'Billy Ray Cyrus': 'Male', 'Oliver Platt': 'Male', 'Cobie Smulders': 'Female', 'Carrie-Anne Moss': 'Female', 'Jenny Agutter': 'Female', 'Kay Panabaker': 'Female', 'Josh Hartnett': 'Male', 'Lauren Cohan': 'Female', 'Emma Stone': 'Female', 'Mika Boorem': 'Female', 'Michael Dorn': 'Male', 'Seth Rogen': 'Male', 'Keegan Allen': 'Male', 'Taylor Kitsch': 'Male', 'Derek Hough': 'Male', 'Rory Culkin': 'Male', 'Catherine Bach': 'Female', 'Carey Lowell': 'Female', 'Bo Derek': 'Female', 'Kirsten Prout': 'Female', 'Emma Thompson': 'Female', 'Patrick Bergin': 'Male', 'Chiwetel Ejiofor': 'Male', 'Blair Underwood': 'Male', 'Sanaa Lathan': 'Female', 'Roselyn Sanchez': 'Female', 'Kane Hodder': 'Male', 'Laura Vandervoort': 'Female', 'Timothy Spall': 'Male', 'Mary-Kate Olsen': 'Female', 'Torrey DeVitto': 'Female', 'Ashley Tisdale': 'Female', 'Harry Connick Jr.': 'Male', 'Jessica Stroup': 'Female', 'Dominic West': 'Male', 'Melissa McBride': 'Female', \"Colin O'Donoghue\": 'Male', 'Jemima Rooper': 'Female', 'James Franco': 'Male', 'Angela Bassett': 'Female', 'Ed Westwick': 'Male', 'Frank Darabont': 'Male', 'Josh Brolin': 'Male', 'Tina Fey': 'Female', 'Cody Linley': 'Male', 'Dean Winters': 'Male', 'Uma Thurman': 'Female', 'Richard Thomas': 'Not found', 'Ryan Eggold': 'Male', 'Rosamund Pike': 'Female', 'Michael Pitt': 'Male', 'Garret Dillahunt': 'Male', 'Tim Roth': 'Male', 'Alexis Knapp': 'Female', 'Rebecca Romijn': 'Female', 'Chris Pine': 'Male', 'Jane Leeves': 'Female', 'Pierce Brosnan': 'Male', 'Freida Pinto': 'Female', 'Terrence Howard': 'Male', 'Tom Hiddleston': 'Male', 'Joan Cusack': 'Female', 'Jeff Goldblum': 'Male', 'Darren Aronofsky': 'Male', 'Jacinda Barrett': 'Female', 'Emilie de Ravin': 'Female', 'James Marsden': 'Male', 'Traylor Howard': 'Female', 'Julian McMahon': 'Male', 'Leven Rambin': 'Female', 'Rachel Bilson': 'Female', 'Steven Soderbergh': 'Male', 'Michael Cera': 'Male', 'Dakota Johnson': 'Female', 'Teri Hatcher': 'Female', 'Nick Cannon': 'Male', 'Clancy Brown': 'Male', 'Quentin Tarantino': 'Male', 'Claire Holt': 'Female', 'Juno Temple': 'Female', 'Alia Shawkat': 'Female', 'Sara Paxton': 'Female', 'Bruce Greenwood': 'Male', 'Tim Guinee': 'Male', \"Nicholas D'Agosto\": 'Male', 'Melanie Griffith': 'Female', 'Chuck Lorre': 'Male', 'Jay Baruchel': 'Male', 'Charlie Sheen': 'Male', 'Alice Braga': 'Female', 'Meghan Markle': 'Female', 'Laura Fraser': 'Female', 'Ornella Muti': 'Female', 'Richard E. Grant': 'Male', 'Olivia Wilde': 'Female', 'Jamie Chung': 'Female', 'Andrew Lincoln': 'Male', 'Julia Roberts': 'Female', 'Brad Garrett': 'Male', 'Jennifer Grey': 'Female', \"Michael O'Keefe\": 'Male', 'Alexandra Breckenridge': 'Female', 'Minka Kelly': 'Female', 'Bobby Cannavale': 'Male', 'David Hasselhoff': 'Male', 'Aidan Turner': 'Male', 'Sharni Vinson': 'Female', 'Jennifer Coolidge': 'Female', 'Adam Lamberg': 'Male', 'Radha Mitchell': 'Female', 'Dax Shepard': 'Male', 'Bai Ling': 'Female', 'Rose McIver': 'Female', 'Adam Baldwin': 'Male', 'Richard Linklater': 'Male', 'Caroline Goodall': 'Female', 'Gary Oldman': 'Male', 'Matt Prokop': 'Male', 'Joe Dempsie': 'Male', 'Glenne Headly': 'Female', 'Nicole Scherzinger': 'Female', 'Michael Schoeffling': 'Male', 'Justine Bateman': 'Female', 'Peter Horton': 'Male', \"Chris O'Dowd\": 'Male', 'Fiona Dourif': 'Female', 'Joey Lauren Adams': 'Female', 'Catherine Hicks': 'Female', 'Terry Farrell': 'Not found', 'Colleen Camp': 'Female', 'Jim Carrey': 'Male', 'Alanna Ubach': 'Female', 'Kevin Nealon': 'Male', 'Xavier Samuel': 'Male', 'Penn Badgley': 'Male', 'Kate Bosworth': 'Female', 'Max Thieriot': 'Male', 'Kevin James': 'Male', 'Lana Wachowski': 'Female', 'Kate Micucci': 'Female', 'Butch Patrick': 'Male', 'Wayne Knight': 'Male', 'Taylor Handley': 'Male', 'Benjamin Bratt': 'Male', 'Christian Bale': 'Male', 'Aimee Teegarden': 'Female', 'David Conrad': 'Male', 'Jerry Seinfeld': 'Male', 'Anton Yelchin': 'Male', 'Mark Pellegrino': 'Male', 'Courteney Cox': 'Female', 'Jane Krakowski': 'Female', 'Boris Kodjoe': 'Male', 'Josh Radnor': 'Male', 'Drake Bell': 'Male', 'Shirley Henderson': 'Female', 'Jake Lloyd': 'Male', 'Chris Penn': 'Male', 'Indiana Evans': 'Female', 'Kal Penn': 'Male', 'Scarlett Johansson': 'Female', 'Amanda Crew': 'Female', 'Mary-Louise Parker': 'Female', 'Lauren Holly': 'Female', 'Sam Rockwell': 'Male', 'Simon Baker': 'Male', 'Eva Mendes': 'Female', 'Topher Grace': 'Male', 'Jesse Williams': 'Not found', 'Christina Ricci': 'Female', 'Alexandra Daddario': 'Female', 'Deborra-Lee Furness': 'Female', \"Catherine O'Hara\": 'Female', 'Rose McGowan': 'Female', 'Matthew Fox': 'Male', 'Rob Corddry': 'Male', 'Celina Jade': 'Female', 'Michael Nyqvist': 'Male', 'Jeanne Tripplehorn': 'Female', 'Doug Jones': 'Not found', 'Tim Daly': 'Male', 'Julie Delpy': 'Female', 'Jamie Foxx': 'Male', 'Sarah Drew': 'Female', 'Reed Diamond': 'Male', 'Stephen Dorff': 'Male', 'Jeff Fahey': 'Male', 'Maggie Siff': 'Female', 'Susanna Thompson': 'Female', 'Patricia Arquette': 'Female', 'Ben Foster': 'Not found', 'Tim Allen': 'Male', 'Alan Ritchson': 'Male', 'Amanda Righetti': 'Female', 'Charles Martin Smith': 'Male', 'Joel Coen': 'Male', 'Kelly Macdonald': 'Female', 'Anjelica Huston': 'Female', 'Kelli Garner': 'Female', 'John Schneider': 'Not found', 'Taran Killam': 'Male', 'Chace Crawford': 'Male', 'Jason George': 'Male', 'Amy Sedaris': 'Female', 'Anna Paquin': 'Female', 'James Purefoy': 'Male', 'Margarita Levieva': 'Female', 'Michelle Trachtenberg': 'Female', 'Madonna': 'Female', 'Natalie Portman': 'Female', 'Melissa Leo': 'Female', 'Hans Zimmer': 'Male', 'Jim Parsons': 'Male', 'Dana Delany': 'Female', 'Riki Lindhome': 'Female', 'Cary Elwes': 'Male', 'Kristen Bell': 'Female', 'Nicollette Sheridan': 'Female', 'Lena Olin': 'Female', 'Daphne Zuniga': 'Female', 'Shohreh Aghdashloo': 'Female', 'Steve Coogan': 'Male', 'Mark Hamill': 'Male', 'Kristin Bauer van Straten': 'Female', 'Calista Flockhart': 'Female', 'Alan Tudyk': 'Male', 'Sarah Jessica Parker': 'Female', 'Noomi Rapace': 'Female', 'Robert Downey Jr.': 'Male', 'Damon Wayans': 'Male', 'Alison Pill': 'Female', 'Ben Barnes': 'Not found', 'Jonathan Rhys Meyers': 'Male', 'Angela Cartwright': 'Female', 'Mimi Rogers': 'Female', 'Jennifer Jason Leigh': 'Female', 'Daniel Day-Lewis': 'Male', 'Marilu Henner': 'Female', 'Hugo Weaving': 'Male', 'Tiya Sircar': 'Female', 'Kristen Wiig': 'Female', 'Jenna Coleman': 'Female', 'Salma Hayek': 'Female', 'Linda Cardellini': 'Female', 'Heidi Klum': 'Female', 'Christine Baranski': 'Female', 'Jack Black': 'Male', 'Kim Kardashian': 'Female', 'Bradley Whitford': 'Male', 'Donatella Versace': 'Female', 'Jet Li': 'Male', 'Nicholle Tom': 'Female', 'Ed Speleers': 'Male', 'M. Night Shyamalan': 'Male', 'Selma Blair': 'Female', 'Jorge Garcia': 'Male', 'Diane Lane': 'Female', 'Seann William Scott': 'Male', 'Drea de Matteo': 'Female', 'Howard Stern': 'Male', 'Debi Mazar': 'Female', 'John Hannah': 'Not found', 'Bill Skarsgård': 'Male', 'Warwick Davis': 'Male', 'Helena Bonham Carter': 'Female', 'Aaron Ashmore': 'Male', 'David Fincher': 'Male', 'Tom Mison': 'Male', 'Sibel Kekilli': 'Female', 'Kevin McHale': 'Not found', 'Johanna Braddy': 'Female', 'Amanda Tapping': 'Female', 'Lindsay Sloane': 'Female', 'Richard Curtis': 'Male', 'Britt Robertson': 'Female', 'Kevin Smith': 'Male', 'Dave Navarro': 'Male', 'Laura Linney': 'Female', 'Jon Cryer': 'Male', 'Arliss Howard': 'Male', 'Rupert Grint': 'Male', 'Michael Chiklis': 'Male', 'Rupert Everett': 'Male', 'Alexandra Hedison': 'Female', 'Fergie Duhamel': 'Female', 'Valeria Golino': 'Female', 'Winona Ryder': 'Female', 'Adelaide Clemens': 'Female', 'Helen McCrory': 'Female', 'Judd Apatow': 'Male', 'Dexter Fletcher': 'Male', 'Neal McDonough': 'Male', 'William Petersen': 'Male', 'Carla Gugino': 'Female', 'Tina Majorino': 'Female', 'Stuart Townsend': 'Male', 'Mark Boone Junior': 'Male', 'Halle Berry': 'Female', 'Gemma Chan': 'Female', 'Jolene Blalock': 'Female', 'Liam Hemsworth': 'Male', 'Greta Gerwig': 'Female', 'Bug Hall': 'Male', 'Riley Keough': 'Female', 'Vanessa Lachey': 'Female', 'Britney Spears': 'Female', 'Jackie Chan': 'Male', 'Mélanie Laurent': 'Female', 'Elias Koteas': 'Male', 'Peter Dinklage': 'Male', 'Hilary Swank': 'Female', 'Linda Fiorentino': 'Female', 'Brooklyn Decker': 'Female', 'Johnny Knoxville': 'Male', 'Sofia Coppola': 'Female', 'Chazz Palminteri': 'Male', 'Joseph Gilgun': 'Male', 'Milla Jovovich': 'Female', 'Chelsea Kane': 'Female', 'Shenae Grimes': 'Female', 'Claire Forlani': 'Female', 'Mara Wilson': 'Female', 'Catherine Keener': 'Female', 'Karen Allen': 'Female', 'Paul Rudd': 'Male', 'Elisha Cuthbert': 'Female', \"Beverly D'Angelo\": 'Female', 'Bianca Kajlich': 'Female', 'Kimberly Williams-Paisley': 'Female', 'Sarah Shahi': 'Female', 'Rosario Dawson': 'Female', 'Sarah Wright': 'Female', 'Lorraine Bracco': 'Female', 'Paul Bettany': 'Male', 'Sandahl Bergman': 'Female', 'Barbara Niven': 'Female', 'John Cho': 'Male', 'Justin Bartha': 'Male', 'Ali Larter': 'Female', 'Tahmoh Penikett': 'Male', 'Claire Danes': 'Female', 'Christopher McDonald': 'Male', 'Kate Capshaw': 'Female', 'Elijah Wood': 'Male', 'Luis Guzmán': 'Male', 'Miranda Kerr': 'Female', 'Raven-Symoné': 'Female', 'William Katt': 'Male', 'Lana Parrilla': 'Female', 'Cole Hauser': 'Male', 'Brenda Song': 'Female', 'Kevin Peter Hall': 'Male', 'Kristy Swanson': 'Female', 'Reginald VelJohnson': 'Male', 'Katee Sackhoff': 'Female', 'Laura Prepon': 'Female', 'Nadine Velazquez': 'Female', 'Zach Roerig': 'Male', 'Dante Basco': 'Male', 'Peter Facinelli': 'Male', 'Alice Krige': 'Female', 'Olivia Williams': 'Female', 'Amy Adams': 'Female', 'Robert Carlyle': 'Male', 'Shannon Tweed': 'Female', 'Ray Liotta': 'Male', 'Sarah Wayne Callies': 'Female', 'Carrie Fisher': 'Female', 'Maura Tierney': 'Female', 'Annabeth Gish': 'Female', 'Carla Gallo': 'Female', 'Giovanni Ribisi': 'Male', 'Ashlee Simpson': 'Female', 'Zooey Deschanel': 'Female', 'Laura Bell Bundy': 'Female', 'Alexis Denisof': 'Male', 'River Phoenix': 'Male', 'Zuleikha Robinson': 'Female', 'Amanda Peet': 'Female', 'Larisa Oleynik': 'Female', 'Dev Patel': 'Male', 'Cindy Morgan': 'Female', 'Bradley Cooper': 'Male', 'Melissa George': 'Female', 'Margo Martindale': 'Female', 'Janet McTeer': 'Female', 'Evan Rachel Wood': 'Female', 'Jeff Daniels': 'Male', 'Zach Galifianakis': 'Male', 'William Baldwin': 'Male', 'John Cusack': 'Male', 'Gabriel Mann': 'Male', 'Asia Argento': 'Female', 'Gina Carano': 'Female', 'Janine Turner': 'Female', 'Blake Lively': 'Female', 'Michelle Borth': 'Female', 'Elizabeth Hurley': 'Female', 'Julia Sweeney': 'Female', 'Michael Cerveris': 'Male', 'Richard Ayoade': 'Male', 'Corbin Bleu': 'Male', 'Julia Ann': 'Female', 'Charlize Theron': 'Female', 'Stana Katic': 'Female', 'Rachelle Lefevre': 'Female', 'Jeff Kober': 'Male', 'Ralph Fiennes': 'Male', 'Billy Campbell': 'Male', 'Becki Newton': 'Female', 'Elisabeth Moss': 'Female', 'Zoe Saldana': 'Female', 'Charlie McDermott': 'Male', \"Q'orianka Kilcher\": 'Female', 'Ellie Kemper': 'Female', 'Bill Hader': 'Male', 'Mandy Moore': 'Female', 'Jonah Hill': 'Male', 'Bill Mumy': 'Male', 'James Van Der Beek': 'Male', 'Bill Fagerbakke': 'Male', 'Aidan Quinn': 'Male', 'Kevin Conroy': 'Male', 'Kevin Bacon': 'Male', 'Debra Winger': 'Female', 'Arsenio Hall': 'Male', 'Steve Buscemi': 'Male', 'Ben Whishaw': 'Male', 'Gerard Butler': 'Male', 'Lori Petty': 'Female', 'Donal Logue': 'Male', 'Jon Favreau': 'Male', 'Téa Leoni': 'Female', 'Orlando Jones': 'Male', 'Billie Piper': 'Female', 'Maggie Grace': 'Female', 'Michelle Williams': 'Not found', 'Thora Birch': 'Female', 'Annie Potts': 'Female', 'Jaimie Alexander': 'Female', 'Martin Freeman': 'Male', 'Vladimir Kulich': 'Male', 'Ethan Embry': 'Male', 'Gary Cole': 'Male', 'Denis Leary': 'Male', 'Paul Haggis': 'Male', 'Rae Dawn Chong': 'Female', 'Julie Bowen': 'Female', 'Sasha Grey': 'Female', 'Danny McBride': 'Male', 'Johnny Lewis': 'Male', 'Jeremy Renner': 'Male', 'Michelle Rodriguez': 'Female', 'Kim Raver': 'Female', 'Rob Lowe': 'Male', 'Greta Scacchi': 'Female', 'Taylor Kinney': 'Male', 'Cillian Murphy': 'Male', 'Timothy Bottoms': 'Male', 'James Le Gros': 'Male', 'Katrina Bowden': 'Female', 'Diego Boneta': 'Male', 'Kyle Chandler': 'Male', 'Eva La Rue': 'Female', 'Heath Ledger': 'Male', 'Matthew Perry': 'Male', 'Frankie Muniz': 'Male', 'Lee Thompson Young': 'Male', 'Jim Caviezel': 'Male', 'Sam Worthington': 'Male', 'Robin Weigert': 'Female', 'Charlie Day': 'Male', \"Frances O'Connor\": 'Female', 'Kaley Cuoco': 'Female', 'Eamonn Walker': 'Male', 'Christopher Mintz-Plasse': 'Male', 'Jeffrey Combs': 'Male', 'David Morrissey': 'Male', 'Linda Blair': 'Female', 'John Hawkes': 'Not found', 'Stephen Baldwin': 'Male', 'Raymond Cruz': 'Male', 'Carey Mulligan': 'Female', 'Kerry Washington': 'Female', 'Bridget Moynahan': 'Female', 'Jamey Sheridan': 'Male', 'Sean Murray': 'Not found', 'Benedict Cumberbatch': 'Male', 'Jesse McCartney': 'Male', 'Arnold Vosloo': 'Male', 'Bruce Campbell': 'Male', 'Rebecca Ferguson': 'Female', 'Shia LaBeouf': 'Male', 'Casey Affleck': 'Male', 'Pamela Anderson': 'Female', 'Cristin Milioti': 'Female', 'Briana Evigan': 'Female', 'Donald Gibb': 'Male', 'Lily Collins': 'Female', 'Carly Schroeder': 'Female', 'Hamish Linklater': 'Male', 'Corbin Bernsen': 'Male', 'Bernie Mac': 'Male', 'Jennifer Lopez': 'Female', 'Lake Bell': 'Female', \"Sinéad O'Connor\": 'Female', 'Rupert Friend': 'Male', 'Rooney Mara': 'Female', 'Gabourey Sidibe': 'Female', 'Maggie Gyllenhaal': 'Female', 'Dawn French': 'Female', 'Leah Pipes': 'Female', 'Jason Clarke': 'Male', 'Morena Baccarin': 'Female', 'Vin Diesel': 'Male', \"Gail O'Grady\": 'Female', 'Kelsey Grammer': 'Male', 'Samantha Mathis': 'Female', 'Jake Abel': 'Male', 'Imelda Staunton': 'Female', 'Sam Raimi': 'Male', 'David Schwimmer': 'Male', 'Kelly Osbourne': 'Female', 'Ralph Macchio': 'Male', 'Laura Ramsey': 'Female', 'Megyn Price': 'Female', 'Nancy Travis': 'Female', 'Katie Findlay': 'Not found', 'Michael Bay': 'Male', 'Christy Romano': 'Female', 'Nicolas Cage': 'Male', 'Jeffrey Dean Morgan': 'Male', 'Aaron Sorkin': 'Male', 'Dennis Quaid': 'Male', 'Rollo Weeks': 'Male', 'Naomi Watts': 'Female', 'Chris Pratt': 'Male', 'Norman Reedus': 'Male', 'A.J. Cook': 'Female', 'Scott Caan': 'Male', 'Angie Harmon': 'Female', 'Jurnee Smollett-Bell': 'Female', 'Justin Chambers': 'Male', 'Jennifer Lawrence': 'Female', 'Juliet Stevenson': 'Female', 'Wilson Bethel': 'Male', 'Ioan Gruffudd': 'Male', 'Tom Felton': 'Male', 'Lisa Bonet': 'Female', 'Andie MacDowell': 'Female', 'Aziz Ansari': 'Male', 'Lea Michele': 'Female', 'Meagan Good': 'Female', 'Luke Wilson': 'Male', 'Scott Gordon-Patterson': 'Error: 404 Client Error: Not Found for url: https://en.wikipedia.org/wiki/Scott_Gordon-Patterson', 'Michael Trevino': 'Male', 'Alec Baldwin': 'Male', 'Hiroyuki Sanada': 'Male', 'Fernanda Machado': 'Female', 'John Leguizamo': 'Male', 'Will Smith': 'Male', 'Emily Mortimer': 'Female', 'Mandy Patinkin': 'Male', 'James Spader': 'Male', 'Rebecca De Mornay': 'Female', 'Stephen Moyer': 'Male', 'Nikki Reed': 'Female', 'Nicole Kidman': 'Female', 'Sean Patrick Flanery': 'Male', 'Lauren Ambrose': 'Female', 'Laura Dern': 'Female', 'David Spade': 'Male', 'Andy Garcia': 'Male', 'Ted McGinley': 'Male', 'Rob Zombie': 'Male', 'Brittany Daniel': 'Female', 'Dave Coulier': 'Male', 'Lesley-Anne Down': 'Female', 'Ed Helms': 'Male', 'Daniel Brühl': 'Male', 'Evan Peters': 'Male', 'Monica Bellucci': 'Female', 'Grant Gustin': 'Male', 'Cate Blanchett': 'Female', 'Jodi Benson': 'Female', 'Gabriel Macht': 'Male', 'Daniel Stern': 'Not found', 'Caitlin Stasey': 'Female', 'Wendy Makkena': 'Female', 'J.J. Abrams': 'Male', 'Shawnee Smith': 'Female', 'Liam Neeson': 'Male', 'Johnny Depp': 'Male', 'Geena Davis': 'Female', 'Dane DeHaan': 'Male', 'Rufus Sewell': 'Male', 'Ryan Reynolds': 'Male', 'Tom Hardy': 'Male', 'Lee Arenberg': 'Male', 'Danielle Panabaker': 'Female', 'Joanne Whalley': 'Female', 'Abby Elliott': 'Female', 'Frances Fisher': 'Female', 'Taryn Manning': 'Female', 'Jennifer Beals': 'Female', 'Steven R. McQueen': 'Male', 'Brenda Strong': 'Female', 'Diora Baird': 'Female', 'John Goodman': 'Male', 'Craig Robinson': 'Not found', 'Jean Smart': 'Female', 'Emily Browning': 'Female', 'Matt Smith': 'Male', 'Debra Messing': 'Female', 'Lily Rabe': 'Female', 'Tommy Wiseau': 'Male', 'Marine Vacth': 'Female', 'LL Cool J': 'Male', 'Wil Wheaton': 'Male', 'Talulah Riley': 'Female', 'Peter Mullan': 'Male', 'Steven Anthony Lawrence': 'Male', 'Madeline Zima': 'Female', 'Hulk Hogan': 'Male', 'Roland Emmerich': 'Male', 'Mae Whitman': 'Female', 'Justin Theroux': 'Male', 'Rowan Atkinson': 'Male', 'Maria Conchita Alonso': 'Female', 'Frances McDormand': 'Female', 'Connie Nielsen': 'Female', 'Common': 'Not found', 'Connor Paolo': 'Male', 'January Jones': 'Female', 'Jessica Lowndes': 'Female', 'Christian Slater': 'Male', 'Catherine Bell': 'Not found', 'Justin Timberlake': 'Male', 'James Wan': 'Male', 'Heather Locklear': 'Female', 'Amy Acker': 'Female', 'Ben Stiller': 'Male', 'Emmanuelle Seigner': 'Female', 'David O. Russell': 'Male', 'Jacqueline Obradors': 'Female', 'Mayim Bialik': 'Female', 'Kristin Scott Thomas': 'Female', 'Christina Applegate': 'Female', 'Natalie Martinez': 'Female', 'Mike Vogel': 'Male', 'Rashida Jones': 'Female', 'Robert Knepper': 'Male', 'Lynda Carter': 'Female', 'Alyson Hannigan': 'Female', 'Kellan Lutz': 'Male', 'Jonathan Bennett': 'Not found', 'Dave Franco': 'Male', 'Dennis Haysbert': 'Male', 'Sela Ward': 'Female', 'Martha MacIsaac': 'Female', 'Henry Ian Cusick': 'Male', 'Jean-Pierre Jeunet': 'Male', 'Desi Arnaz Jr.': 'Male', 'Matt Frewer': 'Male', 'Liam Aiken': 'Male', 'Michaela Conlin': 'Female', 'Kit Harington': 'Male', 'Keri Russell': 'Female', 'Skylar Astin': 'Male', 'Tim Burton': 'Male', 'Ken Olin': 'Male', 'Danielle Bisutti': 'Female', 'Eric Bana': 'Male', 'Elizabeth Mitchell': 'Female', 'Aasif Mandvi': 'Male', 'Carice van Houten': 'Female', 'Simonetta Stefanelli': 'Female', 'Lucy Lawless': 'Female', 'Amber Valletta': 'Female', 'Meghan Ory': 'Female', 'Amanda Seyfried': 'Female', 'Jennifer Aniston': 'Female', 'Kathleen Robertson': 'Female', 'Kevin Sorbo': 'Male', 'Emily Rose': 'Not found', 'Ray Stevenson': 'Male', 'Stephen Graham': 'Male', 'Abbie Cornish': 'Female', 'Rhys Wakefield': 'Male', 'Alex D. Linz': 'Male', 'Patricia Richardson': 'Female', 'Liam Cunningham': 'Male', 'Devon Sawa': 'Male', 'Edward Zwick': 'Male', 'Naya Rivera': 'Female', 'Anna Chlumsky': 'Female', 'Bonnie Hunt': 'Female', 'Shannen Doherty': 'Female', 'Kate Mara': 'Female', 'Kay Lenz': 'Female', 'Staci Keanan': 'Female', 'Sandra Bullock': 'Female', 'Camilla Luddington': 'Female', 'Gillian Anderson': 'Female', 'Michael Jeter': 'Male', 'Jasmine Guy': 'Female', 'Edie Falco': 'Female', 'Shannon Elizabeth': 'Female', 'Matt Lanter': 'Male', 'Ethan Suplee': 'Male', 'Sarah Douglas': 'Not found', 'Daniel Gillies': 'Male', 'Patricia Velasquez': 'Female', 'Claudia Black': 'Female', 'Eric Stoltz': 'Male', 'Vince Vaughn': 'Male', 'Matt LeBlanc': 'Male', 'Dianna Agron': 'Female', 'Steve Zahn': 'Male', 'Amy Smart': 'Female', 'Gia Mantegna': 'Female', 'Emmy Rossum': 'Female', 'Holly Hunter': 'Female', 'Jere Burns': 'Male', 'Portia Doubleday': 'Female', 'Jason Alexander': 'Male', 'Sophie Marceau': 'Female', 'Edie McClurg': 'Female', 'Jordana Brewster': 'Female', 'Sean Hayes': 'Male', 'Joshua Malina': 'Male', 'Pauley Perrette': 'Female', 'Nathan Lane': 'Male', 'Alexandra Maria Lara': 'Female', 'Don Cheadle': 'Male', 'James Marsters': 'Male', 'Melora Hardin': 'Female', 'Shannon Woodward': 'Female', 'Jason Lee': 'Not found', 'Jonathan Taylor Thomas': 'Male', 'Jeff Perry': 'Not found', 'T.R. Knight': 'Male', 'Brie Larson': 'Female', 'Jena Malone': 'Female', 'Philip Davis': 'Not found', 'Hugh Grant': 'Male', 'Jenna Fischer': 'Female', 'James Hetfield': 'Male', 'Travis Fimmel': 'Male', 'Ice-T': 'Male', 'Lauren Graham': 'Female', 'Mark Harmon': 'Male', 'Lou Diamond Phillips': 'Male', 'Kristen Schaal': 'Female', 'Jon Bernthal': 'Male', 'Emily Procter': 'Female', 'Luke Goss': 'Male', 'Andrea Riseborough': 'Female', 'Joseph Mazzello': 'Male', 'Kristin Chenoweth': 'Female', 'Heather Graham': 'Female', 'Jenna Elfman': 'Female', 'Rainn Wilson': 'Male', 'Tiffani Thiessen': 'Female', 'Adam Sandler': 'Male', 'Emily Blunt': 'Female', 'Dwight Yoakam': 'Male', 'Ian Somerhalder': 'Male', 'Jon Stewart': 'Male', 'Anthony Michael Hall': 'Male', 'Whoopi Goldberg': 'Female', 'Eliza Dushku': 'Female', 'Iain Glen': 'Male', 'David Zayas': 'Male', 'Josie Davis': 'Female', 'Adam Goldberg': 'Male', 'Maiara Walsh': 'Female', 'Juliette Binoche': 'Female', 'Kimberly J. Brown': 'Female', 'Denise Richards': 'Female', 'Kenny Wormald': 'Male', 'Taylor Cole': 'Female', 'Leah Remini': 'Female', 'Tyler Hoechlin': 'Male', 'Shawn Ashmore': 'Male', 'Tara Strong': 'Female', 'Christopher Meloni': 'Male', 'Naveen Andrews': 'Male', 'David Tennant': 'Male', 'Caity Lotz': 'Female', 'Pam Dawber': 'Female', 'Tony Goldwyn': 'Male', 'Macaulay Culkin': 'Male', 'Paz Vega': 'Female', 'Bridget Fonda': 'Female', 'Beth Behrs': 'Female', 'Michelle Dockery': 'Female', 'Timothy Olyphant': 'Male', 'Lily Cole': 'Female', 'Anna Camp': 'Female', 'Aaron Eckhart': 'Male', 'Toni Collette': 'Female', 'Stephen Tobolowsky': 'Male', 'Sherilyn Fenn': 'Female', 'Andy Serkis': 'Male', 'Stephen Dillane': 'Male', 'Alan Cumming': 'Male', 'Michael Wincott': 'Male', 'Leighton Meester': 'Female', 'John Malkovich': 'Male', 'Ella Rae Peck': 'Female', 'Tom Kenny': 'Male', 'Jim Jarmusch': 'Male', 'Mary Elizabeth Winstead': 'Female', 'Melanie Lynskey': 'Female', 'Marisa Tomei': 'Female', 'Kat Graham': 'Female', 'Dominic Purcell': 'Male', 'Lennie James': 'Male', 'Jessica Capshaw': 'Female', 'Channing Tatum': 'Male', 'Rumer Willis': 'Female', 'Gabriella Wilde': 'Female', 'Craig Sheffer': 'Male', 'Robbie Amell': 'Male', 'Léa Seydoux': 'Female', 'Andre Braugher': 'Male', 'Brian Thompson': 'Male', 'Monica Raymund': 'Male', 'Vinnie Jones': 'Male', 'Vince Gilligan': 'Male', 'Anson Mount': 'Male', 'Christine Woods': 'Female', 'Til Schweiger': 'Male', 'Naomie Harris': 'Female', 'Patrick Dempsey': 'Male', 'Adewale Akinnuoye-Agbaje': 'Male', 'Portia de Rossi': 'Female', 'Eminem': 'Male', 'Nicholas Hoult': 'Male', 'Abigail Spencer': 'Female', 'Natascha McElhone': 'Female', 'Madeleine Stowe': 'Female', 'Pamela Adlon': 'Female', 'Ryan Kwanten': 'Male', 'Hayden Panettiere': 'Female', 'Joseph Morgan': 'Not found', 'Anne Heche': 'Female', 'Natasha Henstridge': 'Female', 'Forest Whitaker': 'Male', 'Karen Gillan': 'Female', 'Kim Cattrall': 'Female', 'Rhona Mitra': 'Female', 'Paula Patton': 'Female', 'Franka Potente': 'Female', 'Jenna Dewan-Tatum': 'Female', 'Beth Broderick': 'Female', 'Chord Overstreet': 'Male', 'Carmen Electra': 'Female', 'Mare Winningham': 'Female', 'Laurence Fishburne': 'Male', 'Paige Turco': 'Female', 'Sheri Moon Zombie': 'Female', 'Janina Gavankar': 'Female', 'Ty Burrell': 'Male', 'Julianna Margulies': 'Female', 'Erika Eleniak': 'Female', 'Leonor Varela': 'Female', 'Carmen Serano': 'Female', 'Cam Gigandet': 'Male', 'Meg Tilly': 'Female', 'Katey Sagal': 'Female', 'Jared Harris': 'Male', 'Bridgette Wilson-Sampras': 'Female', 'Kate Beckinsale': 'Female', 'Max Greenfield': 'Male', 'John Stamos': 'Male', 'Mira Sorvino': 'Female', 'Amy Poehler': 'Female', 'Georgina Cates': 'Female', 'Diane Neal': 'Female', 'Jeremy Sisto': 'Male', 'Jeremy Sumpter': 'Male', 'Amanda Bynes': 'Female', 'Rene Russo': 'Female', 'Christina Milian': 'Female', 'Rosie Perez': 'Female', 'Maureen McCormick': 'Female', 'Steven Seagal': 'Male', 'Jesse Plemons': 'Male', 'Charlie Hunnam': 'Male', 'Lindsay Lohan': 'Female', 'Tyler Mane': 'Male', 'Kris Jenner': 'Female', 'Alexandra Paul': 'Female', 'Henry Rollins': 'Male', 'Jonathan Groff': 'Male', 'Rita Wilson': 'Female', 'Jane Seymour': 'Female', 'John C. McGinley': 'Male', 'Mindy Robinson': 'Female', 'Hilary Duff': 'Female', 'Sara Canning': 'Female', 'Edward Burns': 'Male', 'Tammin Sursok': 'Female', 'Thandie Newton': 'Female', 'Amy Jo Johnson': 'Female', 'Edward Furlong': 'Male', 'Michelle Pfeiffer': 'Female', 'Hugh Bonneville': 'Male', 'Alicia Witt': 'Female', 'Alexa Vega': 'Female', 'Lucy Liu': 'Female', 'Parminder Nagra': 'Female', 'Bebe Neuwirth': 'Female', 'Danny Boyle': 'Male', 'Rhys Ifans': 'Male', 'Lena Headey': 'Female', 'Roma Maffia': 'Female', 'Lyndsy Fonseca': 'Female', 'Thomas F. Wilson': 'Male', 'Renée Zellweger': 'Female', 'Jim Cummings': 'Male', 'Cameron Crowe': 'Male', 'Jessica Hecht': 'Female', 'Saffron Burrows': 'Female', 'Aaron Paul': 'Male', 'Anna Kendrick': 'Female', 'Luke Kleintank': 'Male', 'Katy Mixon': 'Female', 'Liv Tyler': 'Female', 'Nicole Gale Anderson': 'Female', 'Sebastian Stan': 'Male', 'Kaitlin Olson': 'Female', 'Peter Sarsgaard': 'Male', 'Yun-Fat Chow': 'Male', 'Robert Pattinson': 'Male', 'Alexis Dziena': 'Female', \"Jodi Lyn O'Keefe\": 'Female', 'Tobey Maguire': 'Male', 'Shane Black': 'Male', 'Laurie Metcalf': 'Female', 'Dot Jones': 'Female', 'Nathalie Emmanuel': 'Female', 'Michael Fassbender': 'Male', 'Jane Kaczmarek': 'Female', 'Jessica Brown Findlay': 'Female', 'Paul Dano': 'Male', 'Kirstie Alley': 'Female', 'Clifton Collins Jr.': 'Male', 'Katia Winter': 'Female', 'Michael Jai White': 'Male', 'Evangeline Lilly': 'Female', 'Ben Affleck': 'Male', 'Annie Golden': 'Female', 'Megan Boone': 'Female', 'Julia Ormond': 'Female', 'Baz Luhrmann': 'Male', 'Lisa Edelstein': 'Female', 'Jemima West': 'Female', 'Mark Sheppard': 'Male', 'Diane Kruger': 'Female', 'Helen Hunt': 'Female', 'Ellen Greene': 'Female', 'Titus Welliver': 'Male', 'Allison Williams': 'Not found', 'Julian Richings': 'Male', 'Tom Hulce': 'Male', 'Laura Morante': 'Female', 'Ashley Hinshaw': 'Female', 'Greg Kinnear': 'Male', 'Ang Lee': 'Male', 'Piper Perabo': 'Female', 'Cassie Scerbo': 'Female', 'Julie Benz': 'Female', 'Malin Akerman': 'Female', 'Jason Isaacs': 'Male', 'Mark Strong': 'Female', 'Kurt Sutter': 'Male', 'Michael C. Hall': 'Male', 'Jason Bateman': 'Male', 'Charlotte Gainsbourg': 'Female', 'Lynn Whitfield': 'Female', 'Amanda Plummer': 'Female', 'Kurt Russell': 'Male', 'Josh Holloway': 'Male', 'John Slattery': 'Male', 'Sam Claflin': 'Male', 'Donna Murphy': 'Female', 'Sting': 'Not found', 'Jonny Lee Miller': 'Male', 'Ali Cobrin': 'Female', 'Kevin Pollak': 'Male', 'Kevin Nash': 'Male', 'Amy Yasbeck': 'Female', 'Eva Amurri Martino': 'Female', 'James Gandolfini': 'Male', 'Jemaine Clement': 'Male', 'Olivia Thirlby': 'Female', 'Dreama Walker': 'Female', 'Reese Witherspoon': 'Female', 'Clive Barker': 'Male', 'James Remar': 'Male', 'Adam Arkin': 'Male', 'Simon Helberg': 'Male', 'Emily Watson': 'Female', 'Andrew Dice Clay': 'Male', 'Sophie Lowe': 'Female', 'Jimmy Fallon': 'Male', 'Khloé Kardashian': 'Female', \"Vincent D'Onofrio\": 'Male', 'Lauren Socha': 'Female', 'Mireille Enos': 'Female', 'Nikki Blonsky': 'Female', 'David Hyde Pierce': 'Male', 'Kat Dennings': 'Female', 'Michael K. Williams': 'Male', 'Luc Besson': 'Male', 'Denise Crosby': 'Female', 'Maya Rudolph': 'Female', 'Shane West': 'Male', 'Nikolaj Coster-Waldau': 'Male', 'Robert Zemeckis': 'Male', 'Jared Padalecki': 'Male', 'Josh Peck': 'Male', 'Jana Kramer': 'Female', 'Ming-Na Wen': 'Female', 'Casper Van Dien': 'Male', 'Harvey Fierstein': 'Male', 'Vivica A. Fox': 'Female', 'William Moseley': 'Not found', 'Eddie Murphy': 'Male', 'Julianne Hough': 'Female', 'Linda Purl': 'Female', 'Sean Young': 'Female', 'Misha Collins': 'Male', 'Tony Todd': 'Male', 'Candace Cameron Bure': 'Female', 'Todd Bosley': 'Error: 404 Client Error: Not Found for url: https://en.wikipedia.org/wiki/Todd_Bosley', 'Lara Flynn Boyle': 'Female', 'Katherine Heigl': 'Female', 'Marguerite Moreau': 'Female', 'Clint Howard': 'Male', 'Daryl Hannah': 'Female', 'Neil Flynn': 'Male', 'Candice Accola': 'Female', 'Miranda Richardson': 'Female', 'Roberto Benigni': 'Male', 'Paul Walker': 'Male', 'Eric Winter': 'Male', 'Kevin Hart': 'Male', 'Jada Pinkett Smith': 'Female', 'Christian Serratos': 'Female', 'Rachel Nichols': 'Not found', 'Helena Mattsson': 'Female', 'Imogen Poots': 'Female', 'David Morse': 'Male', 'Anthony Edwards': 'Not found', 'Laura San Giacomo': 'Female', 'Thomas Kretschmann': 'Male', 'David Henrie': 'Male', 'Ashley Benson': 'Female', 'David Caruso': 'Male', 'Sarah Silverman': 'Female', 'LeVar Burton': 'Male', 'Tia Mowry-Hardrict': 'Female', 'Aidan Gillen': 'Male', 'Chris Tucker': 'Male', 'John C. Reilly': 'Male', 'Jamie Bell': 'Male', 'David Wenham': 'Male', 'Genesis Rodriguez': 'Female', 'Mel Gibson': 'Male', 'America Ferrera': 'Female', 'Melissa Fumero': 'Female', 'Tress MacNeille': 'Female', 'Ashley Johnson': 'Female', 'Zoë Kravitz': 'Female', 'Mark Addy': 'Male', 'Kevin Spacey': 'Male', 'Gina Gershon': 'Female', 'Megan Mullally': 'Female', 'Isabelle Adjani': 'Female', 'Jessica Simpson': 'Female', 'Jenny McCarthy': 'Female', 'Dina Meyer': 'Female', 'Jensen Ackles': 'Male', 'Andrew McCarthy': 'Male', 'Isabel Lucas': 'Female', 'Martin Lawrence': 'Male', 'Eric Roberts': 'Male', 'Victor Webster': 'Male', 'Joaquin Phoenix': 'Male', 'Ken Watanabe': 'Male', 'Katherine Moennig': 'Female', 'Masiela Lusha': 'Female', 'Billy Crudup': 'Male', 'Alfre Woodard': 'Female', 'Ari Graynor': 'Female', \"Denis O'Hare\": 'Male', 'Ashley Greene': 'Female', 'Joshua Bowman': 'Male', 'Karl Urban': 'Male', 'Christine Ebersole': 'Female', 'Holly Marie Combs': 'Female', 'Michelle Monaghan': 'Female', 'Aaron Tveit': 'Male', 'James Cameron': 'Male', 'Lorna Luft': 'Female', 'Kar Wai Wong': 'Male', 'Demian Bichir': 'Male', 'Anthony Mackie': 'Male', 'Lee Daniels': 'Male', 'Spike Lee': 'Male', 'Christine Elise': 'Female', 'Hayley Atwell': 'Female', 'Mia Wasikowska': 'Female', 'Joan Severance': 'Female', 'Tia Carrere': 'Female', 'Kevin McNally': 'Male', 'Stanley Tucci': 'Male', 'Danielle Harris': 'Female', 'Jon Lovitz': 'Male', 'Guillermo del Toro': 'Male', 'Chelsea Field': 'Female', 'Jason Flemyng': 'Male', 'Rinko Kikuchi': 'Female', 'Crispin Glover': 'Male', 'Shannyn Sossamon': 'Female', 'Philip Seymour Hoffman': 'Male', 'Amber Tamblyn': 'Female', 'Denzel Washington': 'Male', 'Analeigh Tipton': 'Not found', 'Melissa Rauch': 'Female', 'Matthew Lewis': 'Not found', 'Chad Michael Murray': 'Male', 'Rachael Taylor': 'Female', \"Jerry O'Connell\": 'Male', 'Stacey Dash': 'Female', 'Anna Faris': 'Female', 'Tish Cyrus': 'Female', 'Bruno Mars': 'Male', 'Karine Vanasse': 'Female', 'Hanna Hall': 'Female', 'Elizabeth Peña': 'Female', 'Mindy Kaling': 'Female', 'Wentworth Miller': 'Male', 'Michael Biehn': 'Male', 'Eva Green': 'Female', 'Gal Gadot': 'Female', 'Gary Ross': 'Male', 'Lucas Grabeel': 'Male', 'Marg Helgenberger': 'Female', 'Jason Biggs': 'Male', 'Mia Sara': 'Female', 'Zac Efron': 'Male', 'Rosie Huntington-Whiteley': 'Female', 'Timothy Busfield': 'Male', 'Jack Davenport': 'Male', 'Phoebe Tonkin': 'Female', 'Stacy Keibler': 'Female', 'Larry Miller': 'Not found', 'Woody Harrelson': 'Male', 'Julian Sands': 'Male', 'Jaime Pressly': 'Female', 'Ned Luke': 'Male', 'Robert Sheehan': 'Male', 'Mariska Hargitay': 'Female', 'Arye Gross': 'Female', 'Sarah Chalke': 'Female', 'H. Jon Benjamin': 'Male', 'Jennifer Connelly': 'Female', 'Sharlto Copley': 'Male', 'Mädchen Amick': 'Female', 'Rodrigo Santoro': 'Male', 'Jessica Szohr': 'Female', 'Aneurin Barnard': 'Male', 'Sarah Paulson': 'Female', 'Marcia Gay Harden': 'Female', 'James McAvoy': 'Male', 'Matthew Gray Gubler': 'Male', 'Paul Wesley': 'Male', 'Dinah Manoff': 'Female', 'Mr. T': 'Male', 'Burn Gorman': 'Male', \"Joanna 'JoJo' Levesque\": 'Female', 'Hunter Parrish': 'Male', 'Amanda Bearse': 'Female', 'Annabella Sciorra': 'Female', 'Henry Cavill': 'Male', 'Rachel Boston': 'Female', 'Katheryn Winnick': 'Female', 'Jennifer Esposito': 'Female', 'Amy Irving': 'Female', 'Nancy Cartwright': 'Female', 'Pablo Schreiber': 'Male', 'Josh Dallas': 'Male', 'Stephanie Leonidas': 'Female', 'Javier Bardem': 'Male', 'Didi Conn': 'Female', 'Michael Angarano': 'Male', 'Cory Monteith': 'Male', 'Patricia Heaton': 'Female', 'Matt Dillon': 'Male', 'James Belushi': 'Male', 'Jayma Mays': 'Female', 'Brad Pitt': 'Male', 'Matthew Broderick': 'Male', 'Antonio Banderas': 'Male', 'Linda Hamilton': 'Female', 'Ryan Hurst': 'Male', 'Steve Carell': 'Male', 'Emma Rigby': 'Female', 'Kate Burton': 'Not found', 'Jimmy Smits': 'Male', 'Eric Dane': 'Male', 'Taraji P. Henson': 'Female', 'Chris Cooper': 'Male', 'Steven Michael Quezada': 'Male', 'Sharon Osbourne': 'Female', 'Mia Kirshner': 'Female', 'Ian Hart': 'Male', 'Marina Sirtis': 'Female', 'Mitch Pileggi': 'Male', 'Ashley Olsen': 'Female', 'Carrie Preston': 'Female', 'Stephanie Zimbalist': 'Female', 'Lars Ulrich': 'Male', 'Robert Wisdom': 'Male', 'Elizabeth Perkins': 'Female', 'Laura Harring': 'Female', 'Emma Watson': 'Female', 'Tracy Pollan': 'Female', 'Ken Marino': 'Male', 'Lili Taylor': 'Female', 'Bill Condon': 'Male', 'Steve Guttenberg': 'Male', 'Rachele Brooke Smith': 'Female', 'Rekha': 'Female', 'Darren Criss': 'Male', 'Roseanne Barr': 'Female', 'Ruth Wilson': 'Female', 'Kelly Lynch': 'Female', 'Jane Lynch': 'Female', 'Thomas Brodie-Sangster': 'Male', 'Alyssa Milano': 'Female', 'Colm Feore': 'Male', 'Gore Verbinski': 'Male', 'Krysten Ritter': 'Female', 'Scout Taylor-Compton': 'Female', 'Eric Balfour': 'Male', 'Katherine LaNasa': 'Female', 'Theresa Russell': 'Female', 'Peter Krause': 'Male', 'Joel Kinnaman': 'Male', 'Elizabeth Olsen': 'Female', 'Sara Ramirez': 'Not found', 'Michael Jackson': 'Male', 'Jonathan Lipnicki': 'Male', 'Jon Gries': 'Male', 'Carol Kane': 'Female', 'Stephen Root': 'Male', 'Bellamy Young': 'Female', 'Jay O. Sanders': 'Male', 'Mila Kunis': 'Female', 'Lacey Chabert': 'Female', 'Isabella Rossellini': 'Female', 'Daniel Radcliffe': 'Male', 'Lisa Ann Walter': 'Female', 'Troian Bellisario': 'Female', 'Tom Sizemore': 'Male', 'Fairuza Balk': 'Female', 'Ashley Judd': 'Female', 'Camilla Belle': 'Female', 'Ellen DeGeneres': 'Female', 'Lori Singer': 'Female', 'Simon Cowell': 'Male', 'Ellen Barkin': 'Female', 'Kim Basinger': 'Female', 'Anna Torv': 'Female', 'Robert John Burke': 'Male', 'Adrianne Palicki': 'Female', 'Alexander Skarsgård': 'Male', 'Jessica De Gouw': 'Female', 'Brian George': 'Male', 'Joss Whedon': 'Male', 'Sacha Baron Cohen': 'Male', 'Miranda Otto': 'Female', 'Aishwarya Rai Bachchan': 'Female', 'Brendan Fraser': 'Male', 'Ray Romano': 'Male', 'Jaime King': 'Female', 'Theo Rossi': 'Male', 'Viggo Mortensen': 'Male', 'Sara Gilbert': 'Female', 'Tara Reid': 'Female', 'Michael Shannon': 'Male', 'Patrick Swayze': 'Male', 'Crystal Reed': 'Female', 'Ryan Phillippe': 'Male', 'Zoe Kazan': 'Female', 'Sarah Hyland': 'Female', 'Traci Lords': 'Female', 'Rob Schneider': 'Male', 'DJ Qualls': 'Male', 'Zachary Quinto': 'Male', 'Marion Cotillard': 'Female', 'Sean Penn': 'Male', 'Ewan McGregor': 'Male', 'Shemar Moore': 'Male', 'Steve Jobs': 'Male', 'Brooke Shields': 'Female', 'Gavin Hood': 'Male', 'Colm Meaney': 'Male', 'Daniel Craig': 'Male', 'Parker Posey': 'Female', 'Haley Joel Osment': 'Male', 'Lynn Collins': 'Female', 'Lena Dunham': 'Female', 'Jessica Biel': 'Female', 'Mischa Barton': 'Female', 'Tanya Roberts': 'Female', 'Dylan McDermott': 'Male', 'Maggie Lawson': 'Female', 'Anthony Head': 'Male', 'Emun Elliott': 'Male', 'Mark Ruffalo': 'Male', 'Keanu Reeves': 'Male', 'Giancarlo Esposito': 'Male', 'Alison Brie': 'Female', 'Ally Sheedy': 'Female', 'Kyle Gallner': 'Male', 'Geoffrey Rush': 'Male', 'Connie Britton': 'Female', 'Jason Patric': 'Male', 'Jay Ryan': 'Not found', 'Djimon Hounsou': 'Male', 'Gabrielle Anwar': 'Female', 'Seth MacFarlane': 'Male', 'Bree Olson': 'Female', 'Kurt Fuller': 'Male', 'Marley Shelton': 'Female', 'Clark Gregg': 'Male', 'Tony Shalhoub': 'Male', 'David Thewlis': 'Male', 'Mickey Rourke': 'Male', 'Bob Saget': 'Male', 'Natalie Dormer': 'Female', \"Chris O'Donnell\": 'Male', 'Nicole Eggert': 'Female', 'Lisa Kudrow': 'Female', 'Paul Giamatti': 'Male', 'Katie Featherston': 'Female', 'Harold Perrineau': 'Male', 'Kevin Durand': 'Male', 'Enrico Colantoni': 'Male', 'Kyle MacLachlan': 'Male', 'Caleb Landry Jones': 'Male', 'Danny Huston': 'Male', 'Jaime Murray': 'Female', 'Brittany Snow': 'Female', 'Richard Armitage': 'Not found', 'Isla Fisher': 'Female', 'Stephen Lang': 'Male', 'Mary Steenburgen': 'Female', 'Alfred Molina': 'Male', 'Michael Sheen': 'Male', 'Robert Patrick': 'Male', 'Billy Zane': 'Male', 'Hugh Dancy': 'Male', 'Louis C.K.': 'Male', 'Matt Jones': 'Not found', 'Peter Stormare': 'Male', 'Jennifer Ehle': 'Female', 'Delroy Lindo': 'Male', 'Emile Hirsch': 'Male', 'Ving Rhames': 'Male', 'Jane Levy': 'Female', 'Joshua Jackson': 'Male', 'Elizabeth Berkley': 'Female', 'Sonya Walger': 'Female', 'Alexandra Krosney': 'Female', 'Scott Foley': 'Male', 'Michael J. Fox': 'Male', 'Wesley Snipes': 'Male', 'Lee Pace': 'Male', 'Colin Egglesfield': 'Male', 'Reba McEntire': 'Female', 'Teresa Palmer': 'Female', 'Georgina Verbaan': 'Female', 'Vanessa Hudgens': 'Female', 'Kathleen Quinlan': 'Female', 'Russell Crowe': 'Male', \"Jack O'Connell\": 'Not found', 'Frank Grillo': 'Male', 'Christopher Eccleston': 'Male', 'Megan Hilty': 'Female', 'Hayden Christensen': 'Male', 'C. Thomas Howell': 'Male', 'Ethan Coen': 'Male', 'Corey Haim': 'Male', 'Kristen Stewart': 'Female', 'Zachary Levi': 'Male', 'Arielle Kebbel': 'Female', 'Danneel Ackles': 'Female', 'Stephen Amell': 'Male', 'Anne-Marie Duff': 'Female', 'David Duchovny': 'Male', 'Kristanna Loken': 'Female', 'Kate Hudson': 'Female', 'Michael B. Jordan': 'Male', 'Lauren Potter': 'Female', 'Kevin McKidd': 'Male', 'Kathryn Hahn': 'Female', 'Robin Tunney': 'Female', 'Brendan Gleeson': 'Male', 'Charisma Carpenter': 'Female', 'Jeri Ryan': 'Female', 'Val Kilmer': 'Male', 'Christie Brinkley': 'Female', 'Robert Rodriguez': 'Male', 'Anna Popplewell': 'Female', 'Brad Bird': 'Male', 'Kim Dickens': 'Female', 'Andrew Divoff': 'Male', 'Peter MacNicol': 'Male', '50 Cent': 'Male', 'Bill Pullman': 'Male', 'Jennifer Morrison': 'Female', 'Eric Stonestreet': 'Male', 'Angelina Jolie': 'Female'}\n"
     ]
    }
   ],
   "source": [
    "# 輸出結果\n",
    "\n",
    "gender_dict = {}\n",
    "for name, gender in results:\n",
    "    gender_dict[name] = gender\n",
    "    \n",
    "print(gender_dict)"
   ]
  },
  {
   "cell_type": "code",
   "execution_count": 8,
   "metadata": {},
   "outputs": [
    {
     "name": "stdout",
     "output_type": "stream",
     "text": [
      "59\n",
      "Ryan Murphy\n",
      "Aaron Johnson\n",
      "Charles Baker\n",
      "Scott Gordon-Patterson\n",
      "Philip Davis\n",
      "Todd Bosley\n",
      "['Ryan Murphy', 'Aaron Johnson', 'Charles Baker', 'Scott Gordon-Patterson', 'Philip Davis', 'Todd Bosley']\n"
     ]
    }
   ],
   "source": [
    "name_not_found_list = []\n",
    "for name, gender in results:\n",
    "    if gender != \"Male\" and gender != \"Female\":\n",
    "        # print(f\"Name: {name}, Gender: {gender}\")\n",
    "        name_not_found_list.append(name)\n",
    "        \n",
    "print(len(name_not_found_list))\n",
    "        \n",
    "j_file = open(\"/mnt/d/chinghsien/Downloads/NTU_Thesis_Code_backup/Datasets/A_call/Facial-Age-Estimation-Benchmark-Databases/IMDB-EM-CNN.json\", \"r\")\n",
    "json_imdb = json.load(j_file)\n",
    "\n",
    "\n",
    "name_imdb_list = []\n",
    "gender_imdb_dict = {}\n",
    "for idx, i in enumerate(json_imdb):\n",
    "    cname = i[\"name\"]\n",
    "    name_imdb_list.append(cname.lower())\n",
    "    gender_imdb_dict[cname.lower()] = i[\"gender\"]\n",
    "\n",
    "name_imdb_list = list(set(name_imdb_list))\n",
    "\n",
    "name_imdb_found_list = []\n",
    "name_not_found_list2 = []\n",
    "for name in name_not_found_list:\n",
    "    if name.lower() in name_imdb_list:\n",
    "        # print(f\"name: {name}, gender: {gender_imdb_dict[name.lower()]}\")\n",
    "        if gender_imdb_dict[name.lower()] == \"M\":\n",
    "            gender_dict[name] = \"Male\"\n",
    "        elif gender_imdb_dict[name.lower()] == \"F\":\n",
    "            gender_dict[name] = \"Female\"\n",
    "    else:\n",
    "        name_not_found_list2.append(name)\n",
    "        \n",
    "for key in gender_dict:\n",
    "    gender = gender_dict[key]\n",
    "    if gender != \"Female\" and gender != \"Male\":\n",
    "        print(key)\n",
    "\n",
    "print(name_not_found_list2)"
   ]
  },
  {
   "cell_type": "markdown",
   "metadata": {},
   "source": [
    "# Handle Not Found Manually"
   ]
  },
  {
   "cell_type": "code",
   "execution_count": 9,
   "metadata": {},
   "outputs": [],
   "source": [
    "gender_dict[\"Aaron Johnson\"] = 'Male'\n",
    "gender_dict[\"Philip Davis\"] = 'Male'\n",
    "gender_dict[\"Todd Bosley\"] = 'Male'\n",
    "gender_dict[\"Scott Gordon-Patterson\"] = 'Male'\n",
    "gender_dict[\"Charles Baker\"] = 'Male'\n",
    "gender_dict[\"Ryan Murphy\"] = 'Male'\n",
    "\n",
    "# Check if still Not found \n",
    "\n",
    "for key in gender_dict:\n",
    "    gender = gender_dict[key]\n",
    "    if gender != \"Female\" and gender != \"Male\":\n",
    "        print(key)\n"
   ]
  },
  {
   "cell_type": "markdown",
   "metadata": {},
   "source": [
    "# Update Gender to JSON"
   ]
  },
  {
   "cell_type": "code",
   "execution_count": 10,
   "metadata": {},
   "outputs": [
    {
     "name": "stdout",
     "output_type": "stream",
     "text": [
      "{'name': 'Robin_Williams', 'img_path': 'CACD2000/CACD2000/53_Robin_Williams_0001.jpg', 'id_num': 1, 'age': 53, 'birth': 1951, 'lfw': 1, 'rank': 1, 'year': 2004, 'database': 'CACD', 'folder': 1, 'aligned_bbox': [-2, 53, 182, 1, 234, 185, 49, 237], 'alignment_source': 'in the wild', 'gender': 'M'}\n"
     ]
    }
   ],
   "source": [
    "new_json_afad = []\n",
    "for idx, data in enumerate(json_afad):\n",
    "    name = data['name'].replace(\"_\", \" \")\n",
    "    gender = \"M\" if gender_dict[name] == \"Male\" else \"F\"\n",
    "    gender_pair = {\"gender\": gender}\n",
    "    data.update(gender_pair)\n",
    "    new_json_afad.append(data)\n",
    "        \n",
    "\n",
    "with open(\"/mnt/d/chinghsien/Downloads/NTU_Thesis_Code_backup/Datasets/A_call/Facial-Age-Estimation-Benchmark-Databases/CACD2000_aligned_update_gender.json\", 'w') as f:\n",
    "    json.dump(new_json_afad, f, indent=4)\n",
    "\n",
    "print(new_json_afad[0])\n",
    "        "
   ]
  }
 ],
 "metadata": {
  "kernelspec": {
   "display_name": "AgeEst",
   "language": "python",
   "name": "python3"
  },
  "language_info": {
   "codemirror_mode": {
    "name": "ipython",
    "version": 3
   },
   "file_extension": ".py",
   "mimetype": "text/x-python",
   "name": "python",
   "nbconvert_exporter": "python",
   "pygments_lexer": "ipython3",
   "version": "3.8.19"
  }
 },
 "nbformat": 4,
 "nbformat_minor": 2
}
